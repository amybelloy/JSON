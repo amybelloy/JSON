{
  "cells": [
    {
      "cell_type": "code",
      "execution_count": null,
      "metadata": {},
      "outputs": [],
      "source": [
        "print('Hello World')"
      ]
    }
  ],
  "metadata": {},
  "nbformat": 4,
  "nbformat_minor": 5
}
{
  "nome": "Kamylly Benjamim",
  "idade": 21,
  "contato": 
{
    "email": "kamyllyconstantino@gmail.com",
    "github": "https://github.com/amybelloy"
  },
  "formacao": [
    {
      "curso": "Administração",
      "instituicao": "UFRJ",
      "ano_inicio": 2022,
      "ano_previsto_conclusao": 2026
    }
  ],
  "skills": ["Python", "JSON", "Excel", "Git", "HTML", "CSS", "JavaScript"],
  "projetos": [
    {
      "nome": "Calculadora Python",
      "linguagem": "Python",
      "descricao": "Calculadora simples que realiza operações matemáticas básicas.",
      "data": "2025-07-20",
      "link": "https://github.com/amybelloy/calculadora-python/blob/main/calculadora.ipynb"
    },
    {
      "nome": "Site Caffè Aroma",
      "linguagem": "HTML/CSS/JS",
      "descricao": "Site interativo da loja caffè.",
      "data": "2025-08-01",
      "link": "https://codepen.io/amybelloy/full/bNVGErq"
    }
  ],
  "experiencia": [
    {
      "cargo": "Estagiária",
      "empresa": "Auxiliar Fiscal",
      "ano_inicio": "09-2024",
      "ano_fim": "03-2025",
      "atividades": [
        "Entrega de obrigações acessórias ",
        "Conferência e envio de guias de pagamentos",
        "Apuraçao de impostos e emissão de notas ficais"
      ]
    }
  ],
  "habilidades_tecnicas": [
    {
      "tipo": "Filmes",
      "favoritos": ["Frozen", "Titanic", "Branquelas"]
    },
    {
      "tipo": "Jogos",
      "favoritos": ["Mario Kart", "Among Us", "Minecraft"]
    },
    {
      "tipo": "Personagens",
      "favoritos": [
        {"nome": "Elsa", "poder": "Gelo"},
        {"nome": "Iron Man", "poder": "Tecnologia"}
      ]
    }
  ]
}
